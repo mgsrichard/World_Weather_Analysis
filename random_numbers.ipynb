{
 "cells": [
  {
   "cell_type": "code",
   "execution_count": 20,
   "id": "4bddabf4",
   "metadata": {},
   "outputs": [],
   "source": [
    "#Import the random module\n",
    "#import random - random is included in numpy and doesn't need to be imported if importing numpy\n",
    "import numpy as np"
   ]
  },
  {
   "cell_type": "code",
   "execution_count": 21,
   "id": "abd7ae6d",
   "metadata": {},
   "outputs": [
    {
     "data": {
      "text/plain": [
       "-45"
      ]
     },
     "execution_count": 21,
     "metadata": {},
     "output_type": "execute_result"
    }
   ],
   "source": [
    "random.randint(-90,90)"
   ]
  },
  {
   "cell_type": "code",
   "execution_count": 22,
   "id": "c7facb7d",
   "metadata": {},
   "outputs": [
    {
     "data": {
      "text/plain": [
       "0.8550577585842275"
      ]
     },
     "execution_count": 22,
     "metadata": {},
     "output_type": "execute_result"
    }
   ],
   "source": [
    "random.random()"
   ]
  },
  {
   "cell_type": "code",
   "execution_count": 23,
   "id": "6af7e2a2",
   "metadata": {},
   "outputs": [
    {
     "data": {
      "text/plain": [
       "50.91530663443259"
      ]
     },
     "execution_count": 23,
     "metadata": {},
     "output_type": "execute_result"
    }
   ],
   "source": [
    "random_number = random.randint(-90,89) + random.random()\n",
    "random_number"
   ]
  },
  {
   "cell_type": "code",
   "execution_count": 24,
   "id": "fc2af6da",
   "metadata": {},
   "outputs": [
    {
     "data": {
      "text/plain": [
       "[51.16743256527067,\n",
       " 8.398632782850619,\n",
       " 64.74364638115266,\n",
       " -16.27965707088637,\n",
       " 71.22387185036534,\n",
       " -84.58354587696266,\n",
       " 9.052265203347016,\n",
       " -81.55555807258868,\n",
       " -41.56559390547183,\n",
       " 7.898181007896809]"
      ]
     },
     "execution_count": 24,
     "metadata": {},
     "output_type": "execute_result"
    }
   ],
   "source": [
    "x = 1\n",
    "latitudes = []\n",
    "while x < 11:\n",
    "    random_lat = random.randint(-90,89) + random.random()\n",
    "    latitudes.append(random_lat)\n",
    "    x += 1\n",
    "    \n",
    "latitudes"
   ]
  },
  {
   "cell_type": "code",
   "execution_count": 25,
   "id": "8968e14a",
   "metadata": {},
   "outputs": [
    {
     "data": {
      "text/plain": [
       "3"
      ]
     },
     "execution_count": 25,
     "metadata": {},
     "output_type": "execute_result"
    }
   ],
   "source": [
    "random.randrange(-90,90)"
   ]
  },
  {
   "cell_type": "code",
   "execution_count": 26,
   "id": "5d662484",
   "metadata": {},
   "outputs": [
    {
     "data": {
      "text/plain": [
       "-37.6048141124239"
      ]
     },
     "execution_count": 26,
     "metadata": {},
     "output_type": "execute_result"
    }
   ],
   "source": [
    "random.uniform(-90,90)"
   ]
  },
  {
   "cell_type": "code",
   "execution_count": 28,
   "id": "80fa0822",
   "metadata": {},
   "outputs": [
    {
     "data": {
      "text/plain": [
       "array([-56.11533044, -48.93679026,  50.31381713,  24.77055703,\n",
       "        16.53339151, -45.36827271,  20.05942634,  88.90044763,\n",
       "        72.64336706, -81.12194096,  56.55514225, -76.84922414,\n",
       "       -13.0806503 ,  52.7292413 ,  64.75447144, -42.99717232,\n",
       "       -38.79640255, -83.37578367,  85.92510094, -63.4819228 ,\n",
       "        70.58063929, -71.52984747, -32.44989942,  10.93007971,\n",
       "        -1.88543358,  63.91544779,  87.32196249, -82.19132976,\n",
       "        82.69270991, -78.72027083, -20.43934044,  62.97299728,\n",
       "        30.33311718, -20.34801148, -17.29501024,  70.82235772,\n",
       "       -72.54109609,  33.7908845 , -37.67184937,  52.57601581,\n",
       "       -49.49616851,  74.42445012,  48.16421773, -88.49129274,\n",
       "        -5.76576254, -22.18236242,  85.07100538,  55.46492325,\n",
       "         8.00688189,  70.26979496])"
      ]
     },
     "execution_count": 28,
     "metadata": {},
     "output_type": "execute_result"
    }
   ],
   "source": [
    "np.random.uniform(-90.000,90.000,size = 50)"
   ]
  },
  {
   "cell_type": "code",
   "execution_count": 29,
   "id": "d6c6d5a6",
   "metadata": {},
   "outputs": [
    {
     "name": "stdout",
     "output_type": "stream",
     "text": [
      "12.5 µs ± 44.5 ns per loop (mean ± std. dev. of 7 runs, 100000 loops each)\n"
     ]
    }
   ],
   "source": [
    "#Import timeit\n",
    "import timeit\n",
    "%timeit np.random.uniform(-90,90,size=1500)"
   ]
  },
  {
   "cell_type": "code",
   "execution_count": 30,
   "id": "512739fc",
   "metadata": {},
   "outputs": [
    {
     "name": "stdout",
     "output_type": "stream",
     "text": [
      "1.58 ms ± 6.08 µs per loop (mean ± std. dev. of 7 runs, 1000 loops each)\n"
     ]
    }
   ],
   "source": [
    "def latitudes(size):\n",
    "    latitudes = []\n",
    "    x = 0\n",
    "    while x < size:\n",
    "        random_lat = random.randint(-90,89) + random.random()\n",
    "        latitudes.append(random_lat)\n",
    "        x += 1\n",
    "    return latitudes\n",
    "\n",
    "#call the function with 1500\n",
    "%timeit latitudes(1500)"
   ]
  },
  {
   "cell_type": "code",
   "execution_count": 2,
   "id": "42753b6a",
   "metadata": {},
   "outputs": [],
   "source": [
    "#import linear regression from the SciPy stats module\n",
    "from scipy.stats import linregress"
   ]
  },
  {
   "cell_type": "code",
   "execution_count": 7,
   "id": "c6ae48e5",
   "metadata": {},
   "outputs": [
    {
     "name": "stdout",
     "output_type": "stream",
     "text": [
      "y = -0.45x + 92.84\n",
      "The p-value is 0.011.\n"
     ]
    }
   ],
   "source": [
    "#Create an equal number of latitudes and temperatures\n",
    "lats = [42.5, 43.9, 8.1, 36.8, 79.9, 69.1, 25.7, 15.3, 12.7, 64.5]\n",
    "temps = [80.5, 75.3, 90.6, 90.0, 40.4, 62.3, 85.4, 79.6, 72.5, 72.0]\n",
    "(slope, intercept, r_value, p_value, std_err) = linregress(lats, temps)\n",
    "#Get the equation of the line\n",
    "line_eq = \"y = \" + str(round(slope,2)) + \"x + \" + str(round(intercept,2))\n",
    "print(line_eq)\n",
    "print(f\"The p-value is {p_value:.3f}.\")"
   ]
  },
  {
   "cell_type": "code",
   "execution_count": 8,
   "id": "71b712b3",
   "metadata": {},
   "outputs": [],
   "source": [
    "regress_values = [(lat * slope + intercept) for lat in lats]"
   ]
  },
  {
   "cell_type": "code",
   "execution_count": 9,
   "id": "852b71cd",
   "metadata": {},
   "outputs": [
    {
     "data": {
      "text/plain": [
       "[73.6642068687727,\n",
       " 73.03246710133186,\n",
       " 89.18695544017598,\n",
       " 76.23629020763894,\n",
       " 56.78773022428192,\n",
       " 61.661151287396905,\n",
       " 81.24508407806267,\n",
       " 85.93800806476598,\n",
       " 87.11123906144182,\n",
       " 63.73686766613106]"
      ]
     },
     "execution_count": 9,
     "metadata": {},
     "output_type": "execute_result"
    }
   ],
   "source": [
    "regress_values"
   ]
  },
  {
   "cell_type": "code",
   "execution_count": 13,
   "id": "c41d3004",
   "metadata": {},
   "outputs": [
    {
     "data": {
      "image/png": "[encoded data removed]",
      "text/plain": [
       "<Figure size 432x288 with 1 Axes>"
      ]
     },
     "metadata": {
      "needs_background": "light"
     },
     "output_type": "display_data"
    }
   ],
   "source": [
    "#import matplotlib for graphs\n",
    "import matplotlib.pyplot as plt\n",
    "\n",
    "#Create a scatter of the x and y values (lats and temps)\n",
    "plt.scatter(lats,temps)\n",
    "\n",
    "#Plot the regression line with the x-values and y coordinates based on the regression\n",
    "plt.plot(lats, regress_values,\"r\")\n",
    "\n",
    "#annotate the text for the line equation and add its coordinates\n",
    "\n",
    "plt.annotate(line_eq, (10,40),fontsize = 15, color=\"red\")\n",
    "plt.xlabel(\"Latitude\")\n",
    "plt.ylabel(\"Temperature\")\n",
    "plt.show()"
   ]
  },
  {
   "cell_type": "code",
   "execution_count": 15,
   "id": "4d05835f",
   "metadata": {},
   "outputs": [],
   "source": []
  },
  {
   "cell_type": "code",
   "execution_count": null,
   "id": "b1437d39",
   "metadata": {},
   "outputs": [],
   "source": []
  },
  {
   "cell_type": "code",
   "execution_count": null,
   "id": "96931c30",
   "metadata": {},
   "outputs": [],
   "source": []
  }
 ],
 "metadata": {
  "kernelspec": {
   "display_name": "PythonData",
   "language": "python",
   "name": "pythondata"
  },
  "language_info": {
   "codemirror_mode": {
    "name": "ipython",
    "version": 3
   },
   "file_extension": ".py",
   "mimetype": "text/x-python",
   "name": "python",
   "nbconvert_exporter": "python",
   "pygments_lexer": "ipython3",
   "version": "3.7.11"
  }
 },
 "nbformat": 4,
 "nbformat_minor": 5
}
