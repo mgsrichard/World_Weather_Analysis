{
 "cells": [
  {
   "cell_type": "code",
   "execution_count": 20,
   "id": "4bddabf4",
   "metadata": {},
   "outputs": [],
   "source": [
    "#Import the random module\n",
    "#import random - random is included in numpy and doesn't need to be imported if importing numpy\n",
    "import numpy as np"
   ]
  },
  {
   "cell_type": "code",
   "execution_count": 21,
   "id": "abd7ae6d",
   "metadata": {},
   "outputs": [
    {
     "data": {
      "text/plain": [
       "-45"
      ]
     },
     "execution_count": 21,
     "metadata": {},
     "output_type": "execute_result"
    }
   ],
   "source": [
    "random.randint(-90,90)"
   ]
  },
  {
   "cell_type": "code",
   "execution_count": 22,
   "id": "c7facb7d",
   "metadata": {},
   "outputs": [
    {
     "data": {
      "text/plain": [
       "0.8550577585842275"
      ]
     },
     "execution_count": 22,
     "metadata": {},
     "output_type": "execute_result"
    }
   ],
   "source": [
    "random.random()"
   ]
  },
  {
   "cell_type": "code",
   "execution_count": 23,
   "id": "6af7e2a2",
   "metadata": {},
   "outputs": [
    {
     "data": {
      "text/plain": [
       "50.91530663443259"
      ]
     },
     "execution_count": 23,
     "metadata": {},
     "output_type": "execute_result"
    }
   ],
   "source": [
    "random_number = random.randint(-90,89) + random.random()\n",
    "random_number"
   ]
  },
  {
   "cell_type": "code",
   "execution_count": 24,
   "id": "fc2af6da",
   "metadata": {},
   "outputs": [
    {
     "data": {
      "text/plain": [
       "[51.16743256527067,\n",
       " 8.398632782850619,\n",
       " 64.74364638115266,\n",
       " -16.27965707088637,\n",
       " 71.22387185036534,\n",
       " -84.58354587696266,\n",
       " 9.052265203347016,\n",
       " -81.55555807258868,\n",
       " -41.56559390547183,\n",
       " 7.898181007896809]"
      ]
     },
     "execution_count": 24,
     "metadata": {},
     "output_type": "execute_result"
    }
   ],
   "source": [
    "x = 1\n",
    "latitudes = []\n",
    "while x < 11:\n",
    "    random_lat = random.randint(-90,89) + random.random()\n",
    "    latitudes.append(random_lat)\n",
    "    x += 1\n",
    "    \n",
    "latitudes"
   ]
  },
  {
   "cell_type": "code",
   "execution_count": 25,
   "id": "8968e14a",
   "metadata": {},
   "outputs": [
    {
     "data": {
      "text/plain": [
       "3"
      ]
     },
     "execution_count": 25,
     "metadata": {},
     "output_type": "execute_result"
    }
   ],
   "source": [
    "random.randrange(-90,90)"
   ]
  },
  {
   "cell_type": "code",
   "execution_count": 26,
   "id": "5d662484",
   "metadata": {},
   "outputs": [
    {
     "data": {
      "text/plain": [
       "-37.6048141124239"
      ]
     },
     "execution_count": 26,
     "metadata": {},
     "output_type": "execute_result"
    }
   ],
   "source": [
    "random.uniform(-90,90)"
   ]
  },
  {
   "cell_type": "code",
   "execution_count": 28,
   "id": "80fa0822",
   "metadata": {},
   "outputs": [
    {
     "data": {
      "text/plain": [
       "array([-56.11533044, -48.93679026,  50.31381713,  24.77055703,\n",
       "        16.53339151, -45.36827271,  20.05942634,  88.90044763,\n",
       "        72.64336706, -81.12194096,  56.55514225, -76.84922414,\n",
       "       -13.0806503 ,  52.7292413 ,  64.75447144, -42.99717232,\n",
       "       -38.79640255, -83.37578367,  85.92510094, -63.4819228 ,\n",
       "        70.58063929, -71.52984747, -32.44989942,  10.93007971,\n",
       "        -1.88543358,  63.91544779,  87.32196249, -82.19132976,\n",
       "        82.69270991, -78.72027083, -20.43934044,  62.97299728,\n",
       "        30.33311718, -20.34801148, -17.29501024,  70.82235772,\n",
       "       -72.54109609,  33.7908845 , -37.67184937,  52.57601581,\n",
       "       -49.49616851,  74.42445012,  48.16421773, -88.49129274,\n",
       "        -5.76576254, -22.18236242,  85.07100538,  55.46492325,\n",
       "         8.00688189,  70.26979496])"
      ]
     },
     "execution_count": 28,
     "metadata": {},
     "output_type": "execute_result"
    }
   ],
   "source": [
    "np.random.uniform(-90.000,90.000,size = 50)"
   ]
  },
  {
   "cell_type": "code",
   "execution_count": 29,
   "id": "d6c6d5a6",
   "metadata": {},
   "outputs": [
    {
     "name": "stdout",
     "output_type": "stream",
     "text": [
      "12.5 µs ± 44.5 ns per loop (mean ± std. dev. of 7 runs, 100000 loops each)\n"
     ]
    }
   ],
   "source": [
    "#Import timeit\n",
    "import timeit\n",
    "%timeit np.random.uniform(-90,90,size=1500)"
   ]
  },
  {
   "cell_type": "code",
   "execution_count": 30,
   "id": "512739fc",
   "metadata": {},
   "outputs": [
    {
     "name": "stdout",
     "output_type": "stream",
     "text": [
      "1.58 ms ± 6.08 µs per loop (mean ± std. dev. of 7 runs, 1000 loops each)\n"
     ]
    }
   ],
   "source": [
    "def latitudes(size):\n",
    "    latitudes = []\n",
    "    x = 0\n",
    "    while x < size:\n",
    "        random_lat = random.randint(-90,89) + random.random()\n",
    "        latitudes.append(random_lat)\n",
    "        x += 1\n",
    "    return latitudes\n",
    "\n",
    "#call the function with 1500\n",
    "%timeit latitudes(1500)"
   ]
  },
  {
   "cell_type": "code",
   "execution_count": null,
   "id": "42753b6a",
   "metadata": {},
   "outputs": [],
   "source": []
  }
 ],
 "metadata": {
  "kernelspec": {
   "display_name": "PythonData",
   "language": "python",
   "name": "pythondata"
  },
  "language_info": {
   "codemirror_mode": {
    "name": "ipython",
    "version": 3
   },
   "file_extension": ".py",
   "mimetype": "text/x-python",
   "name": "python",
   "nbconvert_exporter": "python",
   "pygments_lexer": "ipython3",
   "version": "3.7.11"
  }
 },
 "nbformat": 4,
 "nbformat_minor": 5
}
