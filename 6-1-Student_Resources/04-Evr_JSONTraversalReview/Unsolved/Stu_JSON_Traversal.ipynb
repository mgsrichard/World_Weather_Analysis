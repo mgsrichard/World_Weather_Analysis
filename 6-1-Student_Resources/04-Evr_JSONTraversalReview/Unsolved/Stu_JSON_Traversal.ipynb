{
 "cells": [
  {
   "cell_type": "code",
   "execution_count": 12,
   "metadata": {},
   "outputs": [
    {
     "name": "stdout",
     "output_type": "stream",
     "text": [
      "{'apiVersion': '2.0',\n",
      " 'data': {'items': [{'accessControl': {'comment': 'allowed',\n",
      "                                       'commentVote': 'allowed',\n",
      "                                       'embed': 'allowed',\n",
      "                                       'list': 'allowed',\n",
      "                                       'rate': 'allowed',\n",
      "                                       'syndicate': 'allowed',\n",
      "                                       'videoRespond': 'moderated'},\n",
      "                     'aspectRatio': 'widescreen',\n",
      "                     'category': 'News',\n",
      "                     'commentCount': 22,\n",
      "                     'content': {'1': 'rtsp://v5.cache3.c.youtube.com/CiILENy.../0/0/0/video.3gp',\n",
      "                                 '5': 'http://www.youtube.com/v/hYB0mn5zh2c?f...',\n",
      "                                 '6': 'rtsp://v1.cache1.c.youtube.com/CiILENy.../0/0/0/video.3gp'},\n",
      "                     'description': 'Google Maps API Introduction ...',\n",
      "                     'duration': 2840,\n",
      "                     'favoriteCount': 201,\n",
      "                     'id': 'hYB0mn5zh2c',\n",
      "                     'player': {'default': 'http://www.youtube.com/watch?vu003dhYB0mn5zh2c'},\n",
      "                     'rating': 4.63,\n",
      "                     'ratingCount': 68,\n",
      "                     'status': {'reason': 'limitedSyndication',\n",
      "                                'value': 'restricted'},\n",
      "                     'tags': ['GDD07', 'GDD07US', 'Maps'],\n",
      "                     'thumbnail': {'default': 'http://i.ytimg.com/vi/hYB0mn5zh2c/default.jpg',\n",
      "                                   'hqDefault': 'http://i.ytimg.com/vi/hYB0mn5zh2c/hqdefault.jpg'},\n",
      "                     'title': 'Google Developers Day US - Maps API '\n",
      "                              'Introduction',\n",
      "                     'updated': '2010-01-07T13:26:50.000Z',\n",
      "                     'uploaded': '2007-06-05T22:07:03.000Z',\n",
      "                     'uploader': 'GoogleDeveloperDay',\n",
      "                     'viewCount': 220101}],\n",
      "          'itemsPerPage': 1,\n",
      "          'startIndex': 1,\n",
      "          'totalItems': 800,\n",
      "          'updated': '2010-01-07T19:58:42.949Z'}}\n"
     ]
    }
   ],
   "source": [
    "# Dependencies\n",
    "import json\n",
    "import os\n",
    "from pprint import pprint\n",
    "\n",
    "# Load JSON\n",
    "filepath = os.path.join(\"..\", \"Resources\", \"youtube_response.json\")\n",
    "with open(filepath) as jsonfile:\n",
    "    json_data = json.load(jsonfile)\n",
    "    \n",
    "pprint(json_data)"
   ]
  },
  {
   "cell_type": "code",
   "execution_count": 27,
   "metadata": {},
   "outputs": [
    {
     "name": "stdout",
     "output_type": "stream",
     "text": [
      "Google Developers Day US - Maps API Introduction\n"
     ]
    }
   ],
   "source": [
    "title = json_data[\"data\"]['items'][0][\"title\"]\n",
    "print(title)"
   ]
  },
  {
   "cell_type": "code",
   "execution_count": 28,
   "metadata": {},
   "outputs": [
    {
     "name": "stdout",
     "output_type": "stream",
     "text": [
      "4.63\n"
     ]
    }
   ],
   "source": [
    "rating = json_data[\"data\"]['items'][0][\"rating\"]\n",
    "print(rating)"
   ]
  },
  {
   "cell_type": "code",
   "execution_count": 30,
   "metadata": {},
   "outputs": [
    {
     "name": "stdout",
     "output_type": "stream",
     "text": [
      "{'default': 'http://i.ytimg.com/vi/hYB0mn5zh2c/default.jpg', 'hqDefault': 'http://i.ytimg.com/vi/hYB0mn5zh2c/hqdefault.jpg'}\n"
     ]
    }
   ],
   "source": [
    "link = json_data[\"data\"]['items'][0][\"thumbnail\"]\n",
    "print(link)"
   ]
  },
  {
   "cell_type": "code",
   "execution_count": 29,
   "metadata": {},
   "outputs": [
    {
     "name": "stdout",
     "output_type": "stream",
     "text": [
      "68\n"
     ]
    }
   ],
   "source": [
    "rating_count = json_data[\"data\"]['items'][0][\"ratingCount\"]\n",
    "print(rating_count)"
   ]
  },
  {
   "cell_type": "code",
   "execution_count": null,
   "metadata": {},
   "outputs": [],
   "source": []
  }
 ],
 "metadata": {
  "kernelspec": {
   "display_name": "Python 3 (ipykernel)",
   "language": "python",
   "name": "python3"
  },
  "language_info": {
   "codemirror_mode": {
    "name": "ipython",
    "version": 3
   },
   "file_extension": ".py",
   "mimetype": "text/x-python",
   "name": "python",
   "nbconvert_exporter": "python",
   "pygments_lexer": "ipython3",
   "version": "3.7.11"
  }
 },
 "nbformat": 4,
 "nbformat_minor": 2
}
